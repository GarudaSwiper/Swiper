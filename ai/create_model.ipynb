{
 "cells": [
  {
   "cell_type": "code",
   "execution_count": 6,
   "metadata": {},
   "outputs": [],
   "source": [
    "import librosa\n",
    "import numpy as np\n",
    "import pandas as pd\n",
    "from sklearn.model_selection import train_test_split\n",
    "from sklearn.ensemble import RandomForestClassifier\n",
    "from sklearn.metrics import classification_report\n",
    "\n",
    "def extract_features(file_path):\n",
    "    y, sr = librosa.load(file_path, sr=None)\n",
    "    \n",
    "    # Extract pitch\n",
    "    f0, voiced_flag, _ = librosa.pyin(y, fmin=librosa.note_to_hz('C2'), fmax=librosa.note_to_hz('C7'))\n",
    "    mean_pitch = np.mean(f0[voiced_flag]) if any(voiced_flag) else 0\n",
    "\n",
    "    # Extract loudness (RMS)\n",
    "    rms = librosa.feature.rms(y=y)[0]\n",
    "    mean_rms = np.mean(rms)\n",
    "\n",
    "    # Extract Zero Crossing Rate\n",
    "    zcr = librosa.feature.zero_crossing_rate(y=y)[0]\n",
    "    mean_zcr = np.mean(zcr)\n",
    "\n",
    "    # Extract MFCCs and their deltas\n",
    "    mfccs = librosa.feature.mfcc(y=y, sr=sr, n_mfcc=13)\n",
    "    delta_mfccs = librosa.feature.delta(mfccs)\n",
    "    delta_delta_mfccs = librosa.feature.delta(mfccs, order=2)\n",
    "    \n",
    "    mean_mfccs = np.mean(mfccs, axis=1)\n",
    "    mean_delta_mfccs = np.mean(delta_mfccs, axis=1)\n",
    "    mean_delta_delta_mfccs = np.mean(delta_delta_mfccs, axis=1)\n",
    "\n",
    "    # Extract Spectral Features\n",
    "    spectral_centroid = librosa.feature.spectral_centroid(y=y, sr=sr)[0]\n",
    "    spectral_bandwidth = librosa.feature.spectral_bandwidth(y=y, sr=sr)[0]\n",
    "    spectral_contrast = librosa.feature.spectral_contrast(y=y, sr=sr)[0]\n",
    "\n",
    "    mean_spectral_centroid = np.mean(spectral_centroid)\n",
    "    mean_spectral_bandwidth = np.mean(spectral_bandwidth)\n",
    "    mean_spectral_contrast = np.mean(spectral_contrast)\n",
    "    \n",
    "    return np.concatenate([\n",
    "        mean_mfccs, mean_delta_mfccs, mean_delta_delta_mfccs,\n",
    "        [mean_pitch, mean_rms, mean_zcr, mean_spectral_centroid, mean_spectral_bandwidth, mean_spectral_contrast]\n",
    "    ])"
   ]
  },
  {
   "cell_type": "code",
   "execution_count": 75,
   "metadata": {},
   "outputs": [],
   "source": [
    "import glob\n",
    "\n",
    "# Example audio files and labels\n",
    "audio_files = glob.glob('AudioWAV/*.wav')\n",
    "labels = [file[-10:].split('_')[0] for file in audio_files]"
   ]
  },
  {
   "cell_type": "code",
   "execution_count": 76,
   "metadata": {},
   "outputs": [
    {
     "data": {
      "text/plain": [
       "'AudioWAV/1040_ITH_SAD_X.wav'"
      ]
     },
     "execution_count": 76,
     "metadata": {},
     "output_type": "execute_result"
    }
   ],
   "source": [
    "rem = labels.index('')\n",
    "labels.pop(rem)\n",
    "audio_files.pop(rem)"
   ]
  },
  {
   "cell_type": "code",
   "execution_count": 77,
   "metadata": {},
   "outputs": [],
   "source": [
    "# Extract features for each file\n",
    "features = [extract_features(file) for file in audio_files]"
   ]
  },
  {
   "cell_type": "code",
   "execution_count": 78,
   "metadata": {},
   "outputs": [],
   "source": [
    "# Create DataFrame\n",
    "columns = [f'mfcc{i+1}' for i in range(13)] + [f'delta_mfcc{i+1}' for i in range(13)] + [f'delta_delta_mfcc{i+1}' for i in range(13)]\n",
    "columns += ['pitch', 'rms', 'zcr', 'spectral_centroid', 'spectral_bandwidth', 'spectral_contrast']\n",
    "df = pd.DataFrame(features, columns=columns)\n",
    "df['label'] = labels"
   ]
  },
  {
   "cell_type": "code",
   "execution_count": 79,
   "metadata": {},
   "outputs": [],
   "source": [
    "# Split into features and labels\n",
    "X = df.drop(columns=['label'])\n",
    "y = df['label']"
   ]
  },
  {
   "cell_type": "code",
   "execution_count": 80,
   "metadata": {},
   "outputs": [],
   "source": [
    "from sklearn.preprocessing import StandardScaler, LabelEncoder\n",
    "scaler = StandardScaler()\n",
    "X_scaled = scaler.fit_transform(X)\n",
    "encoder = LabelEncoder()\n",
    "y_encoded = encoder.fit_transform(y)"
   ]
  },
  {
   "cell_type": "code",
   "execution_count": 81,
   "metadata": {},
   "outputs": [],
   "source": [
    "from sklearn.model_selection import train_test_split\n",
    "X_train, X_test, y_train, y_test = train_test_split(X_scaled, y_encoded, test_size=0.2, random_state=42)"
   ]
  },
  {
   "cell_type": "code",
   "execution_count": 82,
   "metadata": {},
   "outputs": [],
   "source": [
    "import torch\n",
    "from torch.utils.data import Dataset, DataLoader\n",
    "from torch import nn"
   ]
  },
  {
   "cell_type": "code",
   "execution_count": 95,
   "metadata": {},
   "outputs": [],
   "source": [
    "device = torch.device('mps')"
   ]
  },
  {
   "cell_type": "code",
   "execution_count": 96,
   "metadata": {},
   "outputs": [],
   "source": [
    "class AudioDataset(Dataset):\n",
    "    def __init__(self, X, y):\n",
    "        self.X = torch.tensor(X, dtype=torch.float32).to(device)\n",
    "        self.y = torch.tensor(y, dtype=torch.long).to(device)\n",
    "    \n",
    "    def __len__(self):\n",
    "        return len(self.X)\n",
    "    \n",
    "    def __getitem__(self, idx):\n",
    "        return self.X[idx], self.y[idx]"
   ]
  },
  {
   "cell_type": "code",
   "execution_count": 97,
   "metadata": {},
   "outputs": [],
   "source": [
    "train_dataset = AudioDataset(X_train, y_train)\n",
    "train_loader = DataLoader(train_dataset, batch_size=32, shuffle=True)\n",
    "test_dataset = AudioDataset(X_test, y_test) \n",
    "test_loader = DataLoader(test_dataset, batch_size=32)"
   ]
  },
  {
   "cell_type": "code",
   "execution_count": 101,
   "metadata": {},
   "outputs": [],
   "source": [
    "class AudioClassifier(nn.Module):\n",
    "    def __init__(self):\n",
    "        super(AudioClassifier, self).__init__()\n",
    "        self.fc1 = nn.Linear(45, 64)\n",
    "        self.fc2 = nn.Linear(64, 128)\n",
    "        self.fc3 = nn.Linear(128, 256)\n",
    "        self.fc4 = nn.Linear(256, 6)\n",
    "        self.dropout = nn.Dropout(0.1)\n",
    "        self.norm1 = nn.BatchNorm1d(64)\n",
    "        self.norm2 = nn.BatchNorm1d(128)\n",
    "    \n",
    "    def forward(self, x):\n",
    "        x = self.dropout(torch.relu(self.norm1(self.fc1(x))))\n",
    "        x = self.dropout(torch.relu(self.norm2(self.fc2(x))))\n",
    "        x = self.dropout(torch.relu(self.fc3(x)))\n",
    "        x = torch.log_softmax(self.fc4(x), dim=1)\n",
    "        return x"
   ]
  },
  {
   "cell_type": "code",
   "execution_count": 104,
   "metadata": {},
   "outputs": [
    {
     "name": "stdout",
     "output_type": "stream",
     "text": [
      "Epoch 0 Loss: 1.5274528181681069\n",
      "Epoch 10 Loss: 1.1808171602346564\n",
      "Epoch 20 Loss: 1.063637500809085\n",
      "Epoch 30 Loss: 1.001248804151371\n",
      "Epoch 40 Loss: 0.9297041681505018\n",
      "Epoch 50 Loss: 0.8869503880700758\n",
      "Epoch 60 Loss: 0.8296023254753441\n",
      "Epoch 70 Loss: 0.8044262590908235\n",
      "Epoch 80 Loss: 0.7950448613333446\n",
      "Epoch 90 Loss: 0.7028702907664801\n",
      "Epoch 100 Loss: 0.6811089425958613\n",
      "Epoch 110 Loss: 0.6646129647570271\n"
     ]
    }
   ],
   "source": [
    "model = AudioClassifier().to(device)\n",
    "criterion = nn.CrossEntropyLoss()\n",
    "optimizer = torch.optim.Adam(model.parameters(), lr=0.001)\n",
    "scheduler = torch.optim.lr_scheduler.ReduceLROnPlateau(optimizer, mode='min', factor=0.3, patience=5)\n",
    "\n",
    "model.train()\n",
    "for epoch in range(1000):\n",
    "    epoch_loss = 0.0\n",
    "    for X_batch, y_batch in train_loader:\n",
    "        optimizer.zero_grad()\n",
    "        X_batch = X_batch.to(device)\n",
    "        y_batch = y_batch.to(device)\n",
    "        y_pred = model(X_batch)\n",
    "        loss = criterion(y_pred, y_batch)\n",
    "        loss.backward()\n",
    "        optimizer.step()\n",
    "        epoch_loss += loss.item()\n",
    "    \n",
    "    epoch_loss /= len(train_loader)\n",
    "    scheduler.step(epoch_loss)\n",
    "    \n",
    "    if epoch % 10 == 0:\n",
    "        print(f'Epoch {epoch} Loss: {epoch_loss}')"
   ]
  },
  {
   "cell_type": "code",
   "execution_count": 87,
   "metadata": {},
   "outputs": [],
   "source": [
    "model.eval()\n",
    "with torch.no_grad():\n",
    "    y_pred = []\n",
    "    for X_batch, y_batch in test_loader:\n",
    "        y_pred.extend(model(X_batch).argmax(dim=1).tolist())"
   ]
  },
  {
   "cell_type": "code",
   "execution_count": 88,
   "metadata": {},
   "outputs": [],
   "source": [
    "y_pred = np.array(y_pred)"
   ]
  },
  {
   "cell_type": "code",
   "execution_count": 89,
   "metadata": {},
   "outputs": [
    {
     "name": "stdout",
     "output_type": "stream",
     "text": [
      "              precision    recall  f1-score   support\n",
      "\n",
      "         ANG       0.62      0.69      0.65       239\n",
      "         DIS       0.33      0.36      0.34       239\n",
      "         FEA       0.34      0.33      0.34       267\n",
      "         HAP       0.42      0.40      0.41       258\n",
      "         NEU       0.38      0.33      0.36       219\n",
      "         SAD       0.41      0.39      0.40       267\n",
      "\n",
      "    accuracy                           0.42      1489\n",
      "   macro avg       0.42      0.42      0.42      1489\n",
      "weighted avg       0.41      0.42      0.41      1489\n",
      "\n"
     ]
    }
   ],
   "source": [
    "print(classification_report(y_test, y_pred, target_names=encoder.classes_))"
   ]
  },
  {
   "cell_type": "code",
   "execution_count": null,
   "metadata": {},
   "outputs": [],
   "source": []
  }
 ],
 "metadata": {
  "kernelspec": {
   "display_name": "swiper",
   "language": "python",
   "name": "python3"
  },
  "language_info": {
   "codemirror_mode": {
    "name": "ipython",
    "version": 3
   },
   "file_extension": ".py",
   "mimetype": "text/x-python",
   "name": "python",
   "nbconvert_exporter": "python",
   "pygments_lexer": "ipython3",
   "version": "3.11.5"
  }
 },
 "nbformat": 4,
 "nbformat_minor": 2
}
